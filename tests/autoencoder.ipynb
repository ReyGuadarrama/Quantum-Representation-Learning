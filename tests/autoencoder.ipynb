{
 "cells": [
  {
   "cell_type": "code",
   "execution_count": 114,
   "metadata": {},
   "outputs": [],
   "source": [
    "import numpy as np\n",
    "import matplotlib.pyplot as plt\n",
    "from torchvision import transforms, datasets\n",
    "from torch import nn, utils, manual_seed, optim, no_grad, randint\n",
    "from torch.utils.data import Dataset, DataLoader"
   ]
  },
  {
   "cell_type": "code",
   "execution_count": 115,
   "metadata": {},
   "outputs": [
    {
     "name": "stdout",
     "output_type": "stream",
     "text": [
      "Downloading http://yann.lecun.com/exdb/mnist/train-images-idx3-ubyte.gz\n",
      "Failed to download (trying next):\n",
      "HTTP Error 403: Forbidden\n",
      "\n",
      "Downloading https://ossci-datasets.s3.amazonaws.com/mnist/train-images-idx3-ubyte.gz\n",
      "Downloading https://ossci-datasets.s3.amazonaws.com/mnist/train-images-idx3-ubyte.gz to ../data/MNIST/raw/train-images-idx3-ubyte.gz\n"
     ]
    },
    {
     "name": "stderr",
     "output_type": "stream",
     "text": [
      "100.0%\n"
     ]
    },
    {
     "name": "stdout",
     "output_type": "stream",
     "text": [
      "Extracting ../data/MNIST/raw/train-images-idx3-ubyte.gz to ../data/MNIST/raw\n",
      "\n",
      "Downloading http://yann.lecun.com/exdb/mnist/train-labels-idx1-ubyte.gz\n",
      "Failed to download (trying next):\n",
      "HTTP Error 403: Forbidden\n",
      "\n",
      "Downloading https://ossci-datasets.s3.amazonaws.com/mnist/train-labels-idx1-ubyte.gz\n",
      "Downloading https://ossci-datasets.s3.amazonaws.com/mnist/train-labels-idx1-ubyte.gz to ../data/MNIST/raw/train-labels-idx1-ubyte.gz\n"
     ]
    },
    {
     "name": "stderr",
     "output_type": "stream",
     "text": [
      "100.0%\n"
     ]
    },
    {
     "name": "stdout",
     "output_type": "stream",
     "text": [
      "Extracting ../data/MNIST/raw/train-labels-idx1-ubyte.gz to ../data/MNIST/raw\n",
      "\n",
      "Downloading http://yann.lecun.com/exdb/mnist/t10k-images-idx3-ubyte.gz\n",
      "Failed to download (trying next):\n",
      "HTTP Error 403: Forbidden\n",
      "\n",
      "Downloading https://ossci-datasets.s3.amazonaws.com/mnist/t10k-images-idx3-ubyte.gz\n",
      "Downloading https://ossci-datasets.s3.amazonaws.com/mnist/t10k-images-idx3-ubyte.gz to ../data/MNIST/raw/t10k-images-idx3-ubyte.gz\n"
     ]
    },
    {
     "name": "stderr",
     "output_type": "stream",
     "text": [
      "100.0%\n"
     ]
    },
    {
     "name": "stdout",
     "output_type": "stream",
     "text": [
      "Extracting ../data/MNIST/raw/t10k-images-idx3-ubyte.gz to ../data/MNIST/raw\n",
      "\n",
      "Downloading http://yann.lecun.com/exdb/mnist/t10k-labels-idx1-ubyte.gz\n",
      "Failed to download (trying next):\n",
      "HTTP Error 403: Forbidden\n",
      "\n",
      "Downloading https://ossci-datasets.s3.amazonaws.com/mnist/t10k-labels-idx1-ubyte.gz\n",
      "Downloading https://ossci-datasets.s3.amazonaws.com/mnist/t10k-labels-idx1-ubyte.gz to ../data/MNIST/raw/t10k-labels-idx1-ubyte.gz\n"
     ]
    },
    {
     "name": "stderr",
     "output_type": "stream",
     "text": [
      "100.0%"
     ]
    },
    {
     "name": "stdout",
     "output_type": "stream",
     "text": [
      "Extracting ../data/MNIST/raw/t10k-labels-idx1-ubyte.gz to ../data/MNIST/raw\n",
      "\n"
     ]
    },
    {
     "name": "stderr",
     "output_type": "stream",
     "text": [
      "\n"
     ]
    }
   ],
   "source": [
    "manual_seed(44)\n",
    "n_samples = 1000\n",
    "batch_size = 64\n",
    "\n",
    "transform = transforms.Compose([\n",
    "    transforms.ToTensor(),\n",
    "])\n",
    "\n",
    "train_dataset = datasets.MNIST(root='../data', train=True, download=True, transform=transform)\n",
    "test_dataset = datasets.MNIST(root='../data', train=False, download=True, transform=transform)\n",
    "\n",
    "idx = np.append(\n",
    "    np.where(train_dataset.targets == 0)[0][:n_samples], np.where(train_dataset.targets == 1)[0][:n_samples]\n",
    ")\n",
    "train_dataset.data = train_dataset.data[idx]\n",
    "train_dataset.targets = train_dataset.targets[idx]\n",
    "\n",
    "# Define torch dataloader with filtered data\n",
    "train_loader = DataLoader(train_dataset, batch_size=batch_size, shuffle=True)\n",
    "test_loader = DataLoader(test_dataset, batch_size=batch_size, shuffle=False)"
   ]
  },
  {
   "cell_type": "code",
   "execution_count": 116,
   "metadata": {},
   "outputs": [
    {
     "data": {
      "image/png": "[encoded data removed]",
      "text/plain": [
       "<Figure size 1000x300 with 6 Axes>"
      ]
     },
     "metadata": {},
     "output_type": "display_data"
    }
   ],
   "source": [
    "n_samples_show = 6\n",
    "\n",
    "data_iter = iter(train_loader)\n",
    "fig, axes = plt.subplots(nrows=1, ncols=n_samples_show, figsize=(10, 3))\n",
    "\n",
    "while n_samples_show > 0:\n",
    "    images, targets = data_iter.__next__()\n",
    "\n",
    "    axes[n_samples_show - 1].imshow(images[0, 0].numpy().squeeze(), cmap=\"gray\")\n",
    "    axes[n_samples_show - 1].set_xticks([])\n",
    "    axes[n_samples_show - 1].set_yticks([])\n",
    "    axes[n_samples_show - 1].set_title(\"Labeled: {}\".format(targets[0].item()))\n",
    "\n",
    "    n_samples_show -= 1"
   ]
  },
  {
   "cell_type": "code",
   "execution_count": 117,
   "metadata": {},
   "outputs": [
    {
     "name": "stdout",
     "output_type": "stream",
     "text": [
      "Autoencoder(\n",
      "  (encoder): Sequential(\n",
      "    (0): Linear(in_features=784, out_features=128, bias=True)\n",
      "    (1): ReLU()\n",
      "    (2): Linear(in_features=128, out_features=2, bias=True)\n",
      "    (3): Tanh()\n",
      "  )\n",
      "  (decoder): Sequential(\n",
      "    (0): Linear(in_features=2, out_features=128, bias=True)\n",
      "    (1): ReLU()\n",
      "    (2): Linear(in_features=128, out_features=784, bias=True)\n",
      "    (3): Sigmoid()\n",
      "  )\n",
      ")\n"
     ]
    }
   ],
   "source": [
    "class Autoencoder(nn.Module):\n",
    "    def __init__(self):\n",
    "        super(Autoencoder, self).__init__()\n",
    "        self.encoder = nn.Sequential(\n",
    "            nn.Linear(28 * 28, 128),\n",
    "            nn.ReLU(),\n",
    "            nn.Linear(128, 2), \n",
    "            nn.Tanh()  # compressed representation\n",
    "        )\n",
    "        self.decoder = nn.Sequential(\n",
    "            nn.Linear(2, 128),\n",
    "            nn.ReLU(),\n",
    "            nn.Linear(128, 28 * 28),\n",
    "            nn.Sigmoid()\n",
    "        )\n",
    "    \n",
    "    def forward(self, x):\n",
    "        x = x.view(-1, 28*28)\n",
    "        encoded = self.encoder(x)\n",
    "        decoded = self.decoder(encoded)\n",
    "        return decoded.view(-1, 1, 28, 28)\n",
    "\n",
    "model = Autoencoder()\n",
    "print(model)"
   ]
  },
  {
   "cell_type": "code",
   "execution_count": 118,
   "metadata": {},
   "outputs": [],
   "source": [
    "criterion = nn.MSELoss()\n",
    "optimizer = optim.Adam(model.parameters(), lr=0.01)"
   ]
  },
  {
   "cell_type": "code",
   "execution_count": 119,
   "metadata": {},
   "outputs": [],
   "source": [
    "loss_history = []\n",
    "\n",
    "def train_model(model, train_loader, criterion, optimizer, num_epochs=10):\n",
    "    \n",
    "    for epoch in range(num_epochs):\n",
    "        model.train()\n",
    "        train_loss = 0.0\n",
    "        for data in train_loader:\n",
    "            imgs, _ = data\n",
    "            optimizer.zero_grad()\n",
    "            outputs = model(imgs)\n",
    "            loss = criterion(outputs, imgs)\n",
    "            loss.backward()\n",
    "            optimizer.step()\n",
    "            train_loss += loss.item()\n",
    "        \n",
    "        train_loss /= len(train_loader)\n",
    "        loss_history.append(train_loss)\n",
    "        print(f'Epoch {epoch+1}/{num_epochs}, Loss: {train_loss:.4f}')"
   ]
  },
  {
   "cell_type": "code",
   "execution_count": 120,
   "metadata": {},
   "outputs": [
    {
     "name": "stdout",
     "output_type": "stream",
     "text": [
      "Epoch 1/200, Loss: 0.0676\n",
      "Epoch 2/200, Loss: 0.0469\n",
      "Epoch 3/200, Loss: 0.0470\n",
      "Epoch 4/200, Loss: 0.0465\n",
      "Epoch 5/200, Loss: 0.0465\n",
      "Epoch 6/200, Loss: 0.0466\n",
      "Epoch 7/200, Loss: 0.0465\n",
      "Epoch 8/200, Loss: 0.0464\n",
      "Epoch 9/200, Loss: 0.0462\n",
      "Epoch 10/200, Loss: 0.0468\n",
      "Epoch 11/200, Loss: 0.0464\n",
      "Epoch 12/200, Loss: 0.0462\n",
      "Epoch 13/200, Loss: 0.0454\n",
      "Epoch 14/200, Loss: 0.0408\n",
      "Epoch 15/200, Loss: 0.0387\n",
      "Epoch 16/200, Loss: 0.0376\n",
      "Epoch 17/200, Loss: 0.0366\n",
      "Epoch 18/200, Loss: 0.0361\n",
      "Epoch 19/200, Loss: 0.0358\n",
      "Epoch 20/200, Loss: 0.0350\n",
      "Epoch 21/200, Loss: 0.0345\n",
      "Epoch 22/200, Loss: 0.0341\n",
      "Epoch 23/200, Loss: 0.0337\n",
      "Epoch 24/200, Loss: 0.0334\n",
      "Epoch 25/200, Loss: 0.0329\n",
      "Epoch 26/200, Loss: 0.0328\n",
      "Epoch 27/200, Loss: 0.0322\n",
      "Epoch 28/200, Loss: 0.0307\n",
      "Epoch 29/200, Loss: 0.0291\n",
      "Epoch 30/200, Loss: 0.0279\n",
      "Epoch 31/200, Loss: 0.0275\n",
      "Epoch 32/200, Loss: 0.0268\n",
      "Epoch 33/200, Loss: 0.0268\n",
      "Epoch 34/200, Loss: 0.0267\n",
      "Epoch 35/200, Loss: 0.0263\n",
      "Epoch 36/200, Loss: 0.0261\n",
      "Epoch 37/200, Loss: 0.0260\n",
      "Epoch 38/200, Loss: 0.0259\n",
      "Epoch 39/200, Loss: 0.0257\n",
      "Epoch 40/200, Loss: 0.0257\n",
      "Epoch 41/200, Loss: 0.0253\n",
      "Epoch 42/200, Loss: 0.0255\n",
      "Epoch 43/200, Loss: 0.0254\n",
      "Epoch 44/200, Loss: 0.0252\n",
      "Epoch 45/200, Loss: 0.0253\n",
      "Epoch 46/200, Loss: 0.0252\n",
      "Epoch 47/200, Loss: 0.0251\n",
      "Epoch 48/200, Loss: 0.0252\n",
      "Epoch 49/200, Loss: 0.0250\n",
      "Epoch 50/200, Loss: 0.0247\n",
      "Epoch 51/200, Loss: 0.0250\n",
      "Epoch 52/200, Loss: 0.0249\n",
      "Epoch 53/200, Loss: 0.0247\n",
      "Epoch 54/200, Loss: 0.0247\n",
      "Epoch 55/200, Loss: 0.0247\n",
      "Epoch 56/200, Loss: 0.0246\n",
      "Epoch 57/200, Loss: 0.0247\n",
      "Epoch 58/200, Loss: 0.0250\n",
      "Epoch 59/200, Loss: 0.0244\n",
      "Epoch 60/200, Loss: 0.0243\n",
      "Epoch 61/200, Loss: 0.0242\n",
      "Epoch 62/200, Loss: 0.0243\n",
      "Epoch 63/200, Loss: 0.0244\n",
      "Epoch 64/200, Loss: 0.0244\n",
      "Epoch 65/200, Loss: 0.0242\n",
      "Epoch 66/200, Loss: 0.0240\n",
      "Epoch 67/200, Loss: 0.0241\n",
      "Epoch 68/200, Loss: 0.0239\n",
      "Epoch 69/200, Loss: 0.0241\n",
      "Epoch 70/200, Loss: 0.0241\n",
      "Epoch 71/200, Loss: 0.0240\n",
      "Epoch 72/200, Loss: 0.0239\n",
      "Epoch 73/200, Loss: 0.0241\n",
      "Epoch 74/200, Loss: 0.0238\n",
      "Epoch 75/200, Loss: 0.0237\n",
      "Epoch 76/200, Loss: 0.0239\n",
      "Epoch 77/200, Loss: 0.0237\n",
      "Epoch 78/200, Loss: 0.0237\n",
      "Epoch 79/200, Loss: 0.0234\n",
      "Epoch 80/200, Loss: 0.0236\n",
      "Epoch 81/200, Loss: 0.0236\n",
      "Epoch 82/200, Loss: 0.0236\n",
      "Epoch 83/200, Loss: 0.0234\n",
      "Epoch 84/200, Loss: 0.0234\n",
      "Epoch 85/200, Loss: 0.0234\n",
      "Epoch 86/200, Loss: 0.0235\n",
      "Epoch 87/200, Loss: 0.0235\n",
      "Epoch 88/200, Loss: 0.0235\n",
      "Epoch 89/200, Loss: 0.0232\n",
      "Epoch 90/200, Loss: 0.0235\n",
      "Epoch 91/200, Loss: 0.0235\n",
      "Epoch 92/200, Loss: 0.0236\n",
      "Epoch 93/200, Loss: 0.0234\n",
      "Epoch 94/200, Loss: 0.0233\n",
      "Epoch 95/200, Loss: 0.0236\n",
      "Epoch 96/200, Loss: 0.0234\n",
      "Epoch 97/200, Loss: 0.0233\n",
      "Epoch 98/200, Loss: 0.0234\n",
      "Epoch 99/200, Loss: 0.0236\n",
      "Epoch 100/200, Loss: 0.0233\n",
      "Epoch 101/200, Loss: 0.0234\n",
      "Epoch 102/200, Loss: 0.0232\n",
      "Epoch 103/200, Loss: 0.0232\n",
      "Epoch 104/200, Loss: 0.0231\n",
      "Epoch 105/200, Loss: 0.0234\n",
      "Epoch 106/200, Loss: 0.0233\n",
      "Epoch 107/200, Loss: 0.0233\n",
      "Epoch 108/200, Loss: 0.0233\n",
      "Epoch 109/200, Loss: 0.0232\n",
      "Epoch 110/200, Loss: 0.0231\n",
      "Epoch 111/200, Loss: 0.0232\n",
      "Epoch 112/200, Loss: 0.0232\n",
      "Epoch 113/200, Loss: 0.0233\n",
      "Epoch 114/200, Loss: 0.0230\n",
      "Epoch 115/200, Loss: 0.0230\n",
      "Epoch 116/200, Loss: 0.0230\n",
      "Epoch 117/200, Loss: 0.0231\n",
      "Epoch 118/200, Loss: 0.0230\n",
      "Epoch 119/200, Loss: 0.0231\n",
      "Epoch 120/200, Loss: 0.0232\n",
      "Epoch 121/200, Loss: 0.0230\n",
      "Epoch 122/200, Loss: 0.0232\n",
      "Epoch 123/200, Loss: 0.0229\n",
      "Epoch 124/200, Loss: 0.0228\n",
      "Epoch 125/200, Loss: 0.0232\n",
      "Epoch 126/200, Loss: 0.0230\n",
      "Epoch 127/200, Loss: 0.0229\n",
      "Epoch 128/200, Loss: 0.0230\n",
      "Epoch 129/200, Loss: 0.0228\n",
      "Epoch 130/200, Loss: 0.0229\n",
      "Epoch 131/200, Loss: 0.0230\n",
      "Epoch 132/200, Loss: 0.0228\n",
      "Epoch 133/200, Loss: 0.0229\n",
      "Epoch 134/200, Loss: 0.0227\n",
      "Epoch 135/200, Loss: 0.0229\n",
      "Epoch 136/200, Loss: 0.0229\n",
      "Epoch 137/200, Loss: 0.0231\n",
      "Epoch 138/200, Loss: 0.0228\n",
      "Epoch 139/200, Loss: 0.0232\n",
      "Epoch 140/200, Loss: 0.0227\n",
      "Epoch 141/200, Loss: 0.0226\n",
      "Epoch 142/200, Loss: 0.0229\n",
      "Epoch 143/200, Loss: 0.0230\n",
      "Epoch 144/200, Loss: 0.0228\n",
      "Epoch 145/200, Loss: 0.0229\n",
      "Epoch 146/200, Loss: 0.0227\n",
      "Epoch 147/200, Loss: 0.0227\n",
      "Epoch 148/200, Loss: 0.0230\n",
      "Epoch 149/200, Loss: 0.0226\n",
      "Epoch 150/200, Loss: 0.0227\n",
      "Epoch 151/200, Loss: 0.0227\n",
      "Epoch 152/200, Loss: 0.0226\n",
      "Epoch 153/200, Loss: 0.0225\n",
      "Epoch 154/200, Loss: 0.0226\n",
      "Epoch 155/200, Loss: 0.0226\n",
      "Epoch 156/200, Loss: 0.0227\n",
      "Epoch 157/200, Loss: 0.0225\n",
      "Epoch 158/200, Loss: 0.0229\n",
      "Epoch 159/200, Loss: 0.0228\n",
      "Epoch 160/200, Loss: 0.0225\n",
      "Epoch 161/200, Loss: 0.0226\n",
      "Epoch 162/200, Loss: 0.0225\n",
      "Epoch 163/200, Loss: 0.0228\n",
      "Epoch 164/200, Loss: 0.0229\n",
      "Epoch 165/200, Loss: 0.0228\n",
      "Epoch 166/200, Loss: 0.0226\n",
      "Epoch 167/200, Loss: 0.0226\n",
      "Epoch 168/200, Loss: 0.0225\n",
      "Epoch 169/200, Loss: 0.0224\n",
      "Epoch 170/200, Loss: 0.0225\n",
      "Epoch 171/200, Loss: 0.0229\n",
      "Epoch 172/200, Loss: 0.0226\n",
      "Epoch 173/200, Loss: 0.0228\n",
      "Epoch 174/200, Loss: 0.0226\n",
      "Epoch 175/200, Loss: 0.0224\n",
      "Epoch 176/200, Loss: 0.0224\n",
      "Epoch 177/200, Loss: 0.0225\n",
      "Epoch 178/200, Loss: 0.0225\n",
      "Epoch 179/200, Loss: 0.0223\n",
      "Epoch 180/200, Loss: 0.0224\n",
      "Epoch 181/200, Loss: 0.0224\n",
      "Epoch 182/200, Loss: 0.0225\n",
      "Epoch 183/200, Loss: 0.0227\n",
      "Epoch 184/200, Loss: 0.0225\n",
      "Epoch 185/200, Loss: 0.0227\n",
      "Epoch 186/200, Loss: 0.0227\n",
      "Epoch 187/200, Loss: 0.0224\n",
      "Epoch 188/200, Loss: 0.0224\n",
      "Epoch 189/200, Loss: 0.0223\n",
      "Epoch 190/200, Loss: 0.0223\n",
      "Epoch 191/200, Loss: 0.0224\n",
      "Epoch 192/200, Loss: 0.0224\n",
      "Epoch 193/200, Loss: 0.0223\n",
      "Epoch 194/200, Loss: 0.0226\n",
      "Epoch 195/200, Loss: 0.0225\n",
      "Epoch 196/200, Loss: 0.0225\n",
      "Epoch 197/200, Loss: 0.0221\n",
      "Epoch 198/200, Loss: 0.0222\n",
      "Epoch 199/200, Loss: 0.0225\n",
      "Epoch 200/200, Loss: 0.0224\n"
     ]
    }
   ],
   "source": [
    "train_model(model, train_loader, criterion, optimizer, num_epochs=200)"
   ]
  },
  {
   "cell_type": "code",
   "execution_count": 121,
   "metadata": {},
   "outputs": [
    {
     "data": {
      "image/png": "[encoded data removed]",
      "text/plain": [
       "<Figure size 640x480 with 1 Axes>"
      ]
     },
     "metadata": {},
     "output_type": "display_data"
    }
   ],
   "source": [
    "plt.plot(loss_history)\n",
    "plt.show()"
   ]
  },
  {
   "cell_type": "code",
   "execution_count": 122,
   "metadata": {},
   "outputs": [],
   "source": [
    "def visualize(model, test_loader):\n",
    "    model.eval()\n",
    "    with no_grad():\n",
    "        dataiter = iter(test_loader)\n",
    "        images, _ = next(dataiter) \n",
    "        outputs = model(images)\n",
    "        outputs = outputs.view(-1, 1, 28, 28)  # Ensure the outputs are reshaped correctly\n",
    "\n",
    "        # Set up the plots\n",
    "        fig, axes = plt.subplots(nrows=2, ncols=10, sharex=True, sharey=True, figsize=(25,5))\n",
    "        for orig, reco, ax in zip(images, outputs, axes.flatten()):\n",
    "            ax.imshow(np.squeeze(orig), cmap='gray')\n",
    "            ax.get_xaxis().set_visible(False)\n",
    "            ax.get_yaxis().set_visible(False)\n",
    "            ax.set_title('Original')\n",
    "            ax.imshow(np.squeeze(reco), cmap='gray')\n",
    "            ax.get_xaxis().set_visible(False)\n",
    "            ax.get_yaxis().set_visible(False)\n",
    "            ax.set_title('Reconstructed')\n",
    "\n",
    "        plt.show()"
   ]
  },
  {
   "cell_type": "code",
   "execution_count": 123,
   "metadata": {},
   "outputs": [
    {
     "data": {
      "image/png": "[encoded data removed]",
      "text/plain": [
       "<Figure size 2500x500 with 20 Axes>"
      ]
     },
     "metadata": {},
     "output_type": "display_data"
    }
   ],
   "source": [
    "figure = plt.figure(figsize=(25, 5))\n",
    "cols, rows = 10, 2\n",
    "for i in range(1, cols + 1):\n",
    "    sample_idx = randint(len(train_dataset), size=(1,)).item()\n",
    "    img, label = train_dataset[sample_idx]\n",
    "    output = model(img)\n",
    "    figure.add_subplot(rows, cols, i)\n",
    "    plt.axis(\"off\")\n",
    "    plt.imshow(np.squeeze(output.detach()), cmap=\"gray\")\n",
    "    figure.add_subplot(rows, cols, i+10)\n",
    "    plt.axis(\"off\")\n",
    "    plt.imshow(np.squeeze(img), cmap=\"gray\")\n",
    "plt.show()"
   ]
  },
  {
   "cell_type": "code",
   "execution_count": null,
   "metadata": {},
   "outputs": [],
   "source": []
  }
 ],
 "metadata": {
  "kernelspec": {
   "display_name": "qrl_env",
   "language": "python",
   "name": "python3"
  },
  "language_info": {
   "codemirror_mode": {
    "name": "ipython",
    "version": 3
   },
   "file_extension": ".py",
   "mimetype": "text/x-python",
   "name": "python",
   "nbconvert_exporter": "python",
   "pygments_lexer": "ipython3",
   "version": "3.10.12"
  }
 },
 "nbformat": 4,
 "nbformat_minor": 2
}
